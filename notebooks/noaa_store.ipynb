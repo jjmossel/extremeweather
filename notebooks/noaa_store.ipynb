{
 "cells": [
  {
   "cell_type": "code",
   "execution_count": 2,
   "metadata": {},
   "outputs": [],
   "source": [
    "import sys\n",
    "sys.path.append('..')\n",
    "\n",
    "import pandas as pd\n",
    "import matplotlib.pyplot as plt\n",
    "import pandas_gbq as pbq\n",
    "import numpy as np\n",
    "from noaa.ghcnd import NOAAStore"
   ]
  },
  {
   "cell_type": "code",
   "execution_count": 3,
   "metadata": {},
   "outputs": [],
   "source": [
    "store = NOAAStore()"
   ]
  },
  {
   "cell_type": "code",
   "execution_count": 4,
   "metadata": {},
   "outputs": [
    {
     "data": {
      "text/plain": [
       "country\n",
       "US    3472\n",
       "AS    1782\n",
       "RS     477\n",
       "GM     248\n",
       "SW     178\n",
       "IN     102\n",
       "CA      99\n",
       "NO      78\n",
       "SF      39\n",
       "SP      37\n",
       "Name: country, dtype: int64"
      ]
     },
     "execution_count": 4,
     "metadata": {},
     "output_type": "execute_result"
    }
   ],
   "source": [
    "inv = store.stations_inventory(element='PRCP', include_info=True)\n",
    "inv_active = inv.loc[lambda df:(df['lastyear']>=2022)].copy()\n",
    "inv_active_1950 = inv_active.loc[lambda df:(df['firstyear']<1950)].groupby('country')['country'].count().sort_values(ascending=False)\n",
    "inv_active_1950.head(10)"
   ]
  },
  {
   "cell_type": "code",
   "execution_count": 5,
   "metadata": {},
   "outputs": [],
   "source": [
    "prcp = store.timeseries_universe(element='PRCP')"
   ]
  },
  {
   "cell_type": "code",
   "execution_count": 5,
   "metadata": {},
   "outputs": [],
   "source": [
    "count_1950 = prcp.loc['1950-01-01':].groupby('id').count()\n",
    "count_1950_90pct = count_1950[(count_1950/count_1950.max()>=0.9)]"
   ]
  },
  {
   "cell_type": "code",
   "execution_count": 6,
   "metadata": {},
   "outputs": [],
   "source": [
    "prcp_filtered = prcp.loc[slice(None), count_1950_90pct.index.values].copy()\n",
    "# prcp_filtered_2 = prcp_filtered.copy().reorder_levels(['id','date']).sort_index()"
   ]
  },
  {
   "cell_type": "code",
   "execution_count": 50,
   "metadata": {},
   "outputs": [],
   "source": [
    "def coverage(s):\n",
    "    start = s.index.get_level_values('date').min()\n",
    "    end = s.index.get_level_values('date').max()\n",
    "    count = s.count()\n",
    "    length = (end-start).days+1\n",
    "    coverage = count/length\n",
    "    return {'start':start,'end':end,'coverage':coverage}\n",
    "    "
   ]
  },
  {
   "cell_type": "code",
   "execution_count": 77,
   "metadata": {},
   "outputs": [],
   "source": [
    "prcp_stats = pd.DataFrame(prcp.groupby('id').apply(coverage)).unstack(1)['value'].sort_values('coverage')\n",
    "prcp_stats"
   ]
  },
  {
   "cell_type": "code",
   "execution_count": 84,
   "metadata": {},
   "outputs": [
    {
     "data": {
      "text/html": [
       "<div>\n",
       "<style scoped>\n",
       "    .dataframe tbody tr th:only-of-type {\n",
       "        vertical-align: middle;\n",
       "    }\n",
       "\n",
       "    .dataframe tbody tr th {\n",
       "        vertical-align: top;\n",
       "    }\n",
       "\n",
       "    .dataframe thead th {\n",
       "        text-align: right;\n",
       "    }\n",
       "</style>\n",
       "<table border=\"1\" class=\"dataframe\">\n",
       "  <thead>\n",
       "    <tr style=\"text-align: right;\">\n",
       "      <th></th>\n",
       "      <th>start</th>\n",
       "      <th>end</th>\n",
       "      <th>coverage</th>\n",
       "    </tr>\n",
       "    <tr>\n",
       "      <th>id</th>\n",
       "      <th></th>\n",
       "      <th></th>\n",
       "      <th></th>\n",
       "    </tr>\n",
       "  </thead>\n",
       "  <tbody>\n",
       "    <tr>\n",
       "      <th>USC00451504</th>\n",
       "      <td>1900-01-01</td>\n",
       "      <td>2022-12-14</td>\n",
       "      <td>0.900597</td>\n",
       "    </tr>\n",
       "    <tr>\n",
       "      <th>USC00114108</th>\n",
       "      <td>1900-01-01</td>\n",
       "      <td>2022-12-14</td>\n",
       "      <td>0.963013</td>\n",
       "    </tr>\n",
       "    <tr>\n",
       "      <th>USC00226177</th>\n",
       "      <td>1900-01-01</td>\n",
       "      <td>2022-12-18</td>\n",
       "      <td>0.963484</td>\n",
       "    </tr>\n",
       "    <tr>\n",
       "      <th>USC00113335</th>\n",
       "      <td>1900-01-01</td>\n",
       "      <td>2022-09-30</td>\n",
       "      <td>0.963665</td>\n",
       "    </tr>\n",
       "    <tr>\n",
       "      <th>USW00014946</th>\n",
       "      <td>1900-01-01</td>\n",
       "      <td>2022-12-17</td>\n",
       "      <td>0.963773</td>\n",
       "    </tr>\n",
       "    <tr>\n",
       "      <th>...</th>\n",
       "      <td>...</td>\n",
       "      <td>...</td>\n",
       "      <td>...</td>\n",
       "    </tr>\n",
       "    <tr>\n",
       "      <th>USC00122731</th>\n",
       "      <td>1949-11-06</td>\n",
       "      <td>2022-12-18</td>\n",
       "      <td>0.90182</td>\n",
       "    </tr>\n",
       "    <tr>\n",
       "      <th>USC00046675</th>\n",
       "      <td>1949-12-01</td>\n",
       "      <td>2022-10-31</td>\n",
       "      <td>0.954493</td>\n",
       "    </tr>\n",
       "    <tr>\n",
       "      <th>USC00336405</th>\n",
       "      <td>1949-12-01</td>\n",
       "      <td>2022-12-12</td>\n",
       "      <td>0.994227</td>\n",
       "    </tr>\n",
       "    <tr>\n",
       "      <th>USC00126164</th>\n",
       "      <td>1949-12-14</td>\n",
       "      <td>2022-12-19</td>\n",
       "      <td>0.994413</td>\n",
       "    </tr>\n",
       "    <tr>\n",
       "      <th>USC00164355</th>\n",
       "      <td>1950-01-01</td>\n",
       "      <td>2022-12-19</td>\n",
       "      <td>0.981614</td>\n",
       "    </tr>\n",
       "  </tbody>\n",
       "</table>\n",
       "<p>2081 rows × 3 columns</p>\n",
       "</div>"
      ],
      "text/plain": [
       "                 start        end  coverage\n",
       "id                                         \n",
       "USC00451504 1900-01-01 2022-12-14  0.900597\n",
       "USC00114108 1900-01-01 2022-12-14  0.963013\n",
       "USC00226177 1900-01-01 2022-12-18  0.963484\n",
       "USC00113335 1900-01-01 2022-09-30  0.963665\n",
       "USW00014946 1900-01-01 2022-12-17  0.963773\n",
       "...                ...        ...       ...\n",
       "USC00122731 1949-11-06 2022-12-18   0.90182\n",
       "USC00046675 1949-12-01 2022-10-31  0.954493\n",
       "USC00336405 1949-12-01 2022-12-12  0.994227\n",
       "USC00126164 1949-12-14 2022-12-19  0.994413\n",
       "USC00164355 1950-01-01 2022-12-19  0.981614\n",
       "\n",
       "[2081 rows x 3 columns]"
      ]
     },
     "execution_count": 84,
     "metadata": {},
     "output_type": "execute_result"
    }
   ],
   "source": [
    "prcp_stats.loc[lambda df:(df['start']<='1950-01-01')&(df['end']>='2022-01-01')&(df['coverage']>=0.90)].sort_values('start')"
   ]
  },
  {
   "cell_type": "code",
   "execution_count": null,
   "metadata": {},
   "outputs": [],
   "source": []
  }
 ],
 "metadata": {
  "kernelspec": {
   "display_name": "Python 3",
   "language": "python",
   "name": "python3"
  },
  "language_info": {
   "codemirror_mode": {
    "name": "ipython",
    "version": 3
   },
   "file_extension": ".py",
   "mimetype": "text/x-python",
   "name": "python",
   "nbconvert_exporter": "python",
   "pygments_lexer": "ipython3",
   "version": "3.10.8 (main, Nov 24 2022, 08:09:04) [Clang 14.0.6 ]"
  },
  "orig_nbformat": 4,
  "vscode": {
   "interpreter": {
    "hash": "2d847e021f1b4c926065ca624fa7db1e4fc95549dbb4b1ff85748d1fc237288e"
   }
  }
 },
 "nbformat": 4,
 "nbformat_minor": 2
}
