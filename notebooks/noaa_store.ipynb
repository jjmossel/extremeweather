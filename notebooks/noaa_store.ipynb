{
 "cells": [
  {
   "cell_type": "code",
   "execution_count": 5,
   "metadata": {},
   "outputs": [],
   "source": [
    "import sys\n",
    "sys.path.append('..')\n",
    "\n",
    "import pandas as pd\n",
    "import matplotlib.pyplot as plt\n",
    "import pandas_gbq as pbq\n",
    "import numpy as np\n",
    "from noaa.ghcnd import NOAAStore"
   ]
  },
  {
   "cell_type": "code",
   "execution_count": 6,
   "metadata": {},
   "outputs": [],
   "source": [
    "store = NOAAStore()"
   ]
  },
  {
   "cell_type": "code",
   "execution_count": 7,
   "metadata": {},
   "outputs": [
    {
     "name": "stdout",
     "output_type": "stream",
     "text": [
      "Downloading: 100%|\u001b[32m██████████\u001b[0m|\n"
     ]
    }
   ],
   "source": [
    "tmin = store.timeseries_universe(element='TMIN')"
   ]
  },
  {
   "cell_type": "code",
   "execution_count": 9,
   "metadata": {},
   "outputs": [],
   "source": [
    "prcp = store.timeseries_universe(element='PRCP')"
   ]
  },
  {
   "cell_type": "code",
   "execution_count": null,
   "metadata": {},
   "outputs": [],
   "source": [
    "inv = store.stations_inventory(element='PRCP', include_info=True)\n",
    "inv_active = inv.loc[lambda df:(df['lastyear']>=2022)].copy()\n",
    "inv_active_1950 = inv_active.loc[lambda df:(df['firstyear']<1950)].groupby('country')['country'].count().sort_values(ascending=False)\n",
    "inv_active_1950.head(10)"
   ]
  },
  {
   "cell_type": "code",
   "execution_count": null,
   "metadata": {},
   "outputs": [],
   "source": [
    "prcp = store.timeseries_universe(element='PRCP')"
   ]
  },
  {
   "cell_type": "code",
   "execution_count": null,
   "metadata": {},
   "outputs": [],
   "source": [
    "count_1950 = prcp.loc['1950-01-01':].groupby('id').count()\n",
    "count_1950_90pct = count_1950[(count_1950/count_1950.max()>=0.9)]"
   ]
  },
  {
   "cell_type": "code",
   "execution_count": null,
   "metadata": {},
   "outputs": [],
   "source": [
    "prcp_filtered = prcp.loc[slice(None), count_1950_90pct.index.values].copy()\n",
    "# prcp_filtered_2 = prcp_filtered.copy().reorder_levels(['id','date']).sort_index()"
   ]
  },
  {
   "cell_type": "code",
   "execution_count": null,
   "metadata": {},
   "outputs": [],
   "source": [
    "def coverage(s):\n",
    "    start = s.index.get_level_values('date').min()\n",
    "    end = s.index.get_level_values('date').max()\n",
    "    count = s.count()\n",
    "    length = (end-start).days+1\n",
    "    coverage = count/length\n",
    "    return {'start':start,'end':end,'coverage':coverage}\n",
    "    "
   ]
  },
  {
   "cell_type": "code",
   "execution_count": null,
   "metadata": {},
   "outputs": [],
   "source": [
    "prcp_stats = pd.DataFrame(prcp.groupby('id').apply(coverage)).unstack(1)['value'].sort_values('coverage')\n",
    "prcp_stats"
   ]
  },
  {
   "cell_type": "code",
   "execution_count": null,
   "metadata": {},
   "outputs": [],
   "source": [
    "prcp_stats.loc[lambda df:(df['start']<='1950-01-01')&(df['end']>='2022-01-01')&(df['coverage']>=0.90)].sort_values('start')"
   ]
  },
  {
   "cell_type": "code",
   "execution_count": null,
   "metadata": {},
   "outputs": [],
   "source": []
  }
 ],
 "metadata": {
  "kernelspec": {
   "display_name": "Python 3",
   "language": "python",
   "name": "python3"
  },
  "language_info": {
   "codemirror_mode": {
    "name": "ipython",
    "version": 3
   },
   "file_extension": ".py",
   "mimetype": "text/x-python",
   "name": "python",
   "nbconvert_exporter": "python",
   "pygments_lexer": "ipython3",
   "version": "3.10.8"
  },
  "orig_nbformat": 4,
  "vscode": {
   "interpreter": {
    "hash": "2d847e021f1b4c926065ca624fa7db1e4fc95549dbb4b1ff85748d1fc237288e"
   }
  }
 },
 "nbformat": 4,
 "nbformat_minor": 2
}
