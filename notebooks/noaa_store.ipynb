{
 "cells": [
  {
   "cell_type": "code",
   "execution_count": 1,
   "metadata": {},
   "outputs": [],
   "source": [
    "import sys\n",
    "sys.path.append('..')\n",
    "\n",
    "import pandas as pd\n",
    "import matplotlib.pyplot as plt\n",
    "import pandas_gbq as pbq\n",
    "import numpy as np\n",
    "from noaa.ghcnd import NOAAStore"
   ]
  },
  {
   "cell_type": "code",
   "execution_count": 2,
   "metadata": {},
   "outputs": [],
   "source": [
    "store = NOAAStore()"
   ]
  },
  {
   "cell_type": "code",
   "execution_count": 3,
   "metadata": {},
   "outputs": [
    {
     "data": {
      "text/plain": [
       "country\n",
       "US    3472\n",
       "AS    1782\n",
       "RS     477\n",
       "GM     248\n",
       "SW     178\n",
       "IN     102\n",
       "CA      99\n",
       "NO      78\n",
       "SF      39\n",
       "SP      37\n",
       "Name: country, dtype: int64"
      ]
     },
     "execution_count": 3,
     "metadata": {},
     "output_type": "execute_result"
    }
   ],
   "source": [
    "inv = store.stations_inventory(element='PRCP', include_info=True)\n",
    "inv_active = inv.loc[lambda df:(df['lastyear']>=2022)].copy()\n",
    "inv_active_1950 = inv_active.loc[lambda df:(df['firstyear']<1950)].groupby('country')['country'].count().sort_values(ascending=False)\n",
    "inv_active_1950.head(10)"
   ]
  },
  {
   "cell_type": "code",
   "execution_count": 4,
   "metadata": {},
   "outputs": [],
   "source": [
    "prcp = store.timeseries_universe(element='PRCP')"
   ]
  },
  {
   "cell_type": "code",
   "execution_count": 5,
   "metadata": {},
   "outputs": [],
   "source": [
    "count_1950 = prcp.loc['1950-01-01':].groupby('id').count()\n",
    "count_1950_90pct = count_1950[(count_1950/count_1950.max()>=0.9)]"
   ]
  },
  {
   "cell_type": "code",
   "execution_count": 6,
   "metadata": {},
   "outputs": [],
   "source": [
    "prcp_filtered = prcp.loc[slice(None), count_1950_90pct.index.values].copy()\n",
    "# prcp_filtered_2 = prcp_filtered.copy().reorder_levels(['id','date']).sort_index()"
   ]
  },
  {
   "cell_type": "code",
   "execution_count": 7,
   "metadata": {},
   "outputs": [],
   "source": [
    "for row,val in prcp_filtered.groupby('id'):\n",
    "    _"
   ]
  },
  {
   "cell_type": "code",
   "execution_count": null,
   "metadata": {},
   "outputs": [],
   "source": []
  }
 ],
 "metadata": {
  "kernelspec": {
   "display_name": "Python 3",
   "language": "python",
   "name": "python3"
  },
  "language_info": {
   "codemirror_mode": {
    "name": "ipython",
    "version": 3
   },
   "file_extension": ".py",
   "mimetype": "text/x-python",
   "name": "python",
   "nbconvert_exporter": "python",
   "pygments_lexer": "ipython3",
   "version": "3.10.8"
  },
  "orig_nbformat": 4,
  "vscode": {
   "interpreter": {
    "hash": "2d847e021f1b4c926065ca624fa7db1e4fc95549dbb4b1ff85748d1fc237288e"
   }
  }
 },
 "nbformat": 4,
 "nbformat_minor": 2
}
