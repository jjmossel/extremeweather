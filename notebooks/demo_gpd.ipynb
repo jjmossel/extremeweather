{
 "cells": [
  {
   "cell_type": "code",
   "execution_count": 80,
   "metadata": {},
   "outputs": [],
   "source": [
    "import sys\n",
    "sys.path.append('..')\n",
    "\n",
    "# import numpy as np\n",
    "import autograd.numpy as np\n",
    "import scipy as sp\n",
    "import pandas as pd\n",
    "from autograd import hessian, grad\n",
    "import matplotlib.pyplot as plt\n",
    "\n",
    "from noaa.daily import stations_info, hist_daily\n",
    "rng = np.random.default_rng()"
   ]
  },
  {
   "cell_type": "code",
   "execution_count": 22,
   "metadata": {},
   "outputs": [],
   "source": [
    "n_sample = 10000\n",
    "x_data = rng.normal(0.0,scale=1.0,size=n_sample)"
   ]
  },
  {
   "cell_type": "code",
   "execution_count": 23,
   "metadata": {},
   "outputs": [],
   "source": [
    "u = 2.0\n",
    "x_exceed = x_data[np.where(x_data>u)]-u"
   ]
  },
  {
   "cell_type": "code",
   "execution_count": 24,
   "metadata": {},
   "outputs": [
    {
     "data": {
      "text/plain": [
       "(-0.10735436076223318, 0.42958545819425065)"
      ]
     },
     "execution_count": 24,
     "metadata": {},
     "output_type": "execute_result"
    }
   ],
   "source": [
    "xi, _, sigma = sp.stats.genpareto.fit(x_exceed,floc=0.0)\n",
    "(xi,sigma)"
   ]
  },
  {
   "cell_type": "code",
   "execution_count": 6,
   "metadata": {},
   "outputs": [],
   "source": [
    "PRCP_NY = hist_daily(('USC00304912', 'USW00094728'),'PRCP')\n",
    "s = PRCP_NY['USW00094728'].copy()"
   ]
  },
  {
   "cell_type": "code",
   "execution_count": 7,
   "metadata": {},
   "outputs": [],
   "source": [
    "u = 50.0\n",
    "s2_exc = s[(s>u)]-u"
   ]
  },
  {
   "cell_type": "code",
   "execution_count": 8,
   "metadata": {},
   "outputs": [],
   "source": [
    "def gdp_logp(x,xi,sigma,mu=0.0):\n",
    "    z = (x-mu)/sigma\n",
    "    return -np.log(sigma) - (1.0+1.0/xi)*np.log(1.0+xi*z)"
   ]
  },
  {
   "cell_type": "code",
   "execution_count": 9,
   "metadata": {},
   "outputs": [],
   "source": [
    "def neg_ll(theta : tuple):\n",
    "    xi, sigma = theta\n",
    "    x_exceed = s2_exc.values\n",
    "\n",
    "    return -1.0 * np.sum(gdp_logp(x_exceed,xi,sigma))\n"
   ]
  },
  {
   "cell_type": "code",
   "execution_count": 10,
   "metadata": {},
   "outputs": [],
   "source": [
    "def gdp_returnlevel(returnperiod, mu, xi, sigma, p_mu, period = 1.0):\n",
    "    m = returnperiod * period\n",
    "    return mu + (sigma/xi) * (np.power(m * p_mu,xi)-1.0)"
   ]
  },
  {
   "cell_type": "code",
   "execution_count": 11,
   "metadata": {},
   "outputs": [
    {
     "name": "stdout",
     "output_type": "stream",
     "text": [
      "Optimization terminated successfully.\n",
      "         Current function value: 1432.496918\n",
      "         Iterations: 72\n",
      "         Function evaluations: 135\n"
     ]
    },
    {
     "data": {
      "text/plain": [
       "(0.11864894493352365, 18.064446381172175)"
      ]
     },
     "execution_count": 11,
     "metadata": {},
     "output_type": "execute_result"
    }
   ],
   "source": [
    "xi, sigma = sp.optimize.fmin(neg_ll,(0.001,1.0))\n",
    "(xi, sigma)"
   ]
  },
  {
   "cell_type": "code",
   "execution_count": 145,
   "metadata": {},
   "outputs": [],
   "source": [
    "class GPDMLE:\n",
    "\n",
    "    def __init__(self, u):\n",
    "        self.u = u\n",
    "        \n",
    "        self.xi = None\n",
    "        self.sigma = None\n",
    "\n",
    "        self.x_exceed = None\n",
    "        self.n_sample = None\n",
    "        self.n_exceed = None\n",
    "\n",
    "    \n",
    "    def neg_ll(self, theta) -> float:\n",
    "        xi, sigma = theta\n",
    "        return -1.0 * np.sum(gdp_logp(self.x_exceed,xi,sigma))\n",
    "\n",
    "    def fit(self, x_data):\n",
    "\n",
    "        self.x_exceed = x_data[np.where(x_data>self.u)]-self.u  \n",
    "\n",
    "        self.n_sample = len(x_data)\n",
    "        self.n_exceed = len(x_exceed)\n",
    "\n",
    "        self.xi, self.sigma = sp.optimize.fmin(self.neg_ll,(0.001,1.0))\n",
    "\n",
    "    def p_u(self) -> float:\n",
    "        return self.n_exceed/self.n_sample\n",
    "\n",
    "    def p_u_var(self) -> float:\n",
    "        p = self.p_u()\n",
    "        return p*(1-p)/self.n_sample\n",
    "\n",
    "\n",
    "    def cov(self) -> np.ndarray:\n",
    "        fisher_info =  hessian(self.neg_ll)(np.array([self.xi,self.sigma]))\n",
    "        cov = np.linalg.inv(fisher_info)\n",
    "        return cov\n",
    "\n",
    "    def get_params(self, include_ci=False) -> dict:\n",
    "\n",
    "        params = {\n",
    "            'xi'    : self.xi,\n",
    "            'sigma' : self.sigma\n",
    "        }\n",
    "\n",
    "        if include_ci:\n",
    "            xi_se, sigma_se = np.sqrt(np.diag(self.cov()))\n",
    "\n",
    "            ci = {\n",
    "                'xi'    : (self.xi-2*xi_se,self.xi+2*xi_se),\n",
    "                'sigma' : (self.sigma-2*sigma_se,self.sigma+2*sigma_se)\n",
    "            }\n",
    "\n",
    "            return (params, ci)\n",
    "        else:\n",
    "            return params\n",
    "\n",
    "    def return_level(self, return_period, period = 1.0):\n",
    "\n",
    "        return gdp_returnlevel(return_period, self.u, self.xi, self.sigma, self.p_u(), period = period)\n",
    "\n",
    "    def _return_level_se(self, return_period, period = 1.0):\n",
    "\n",
    "        def rl(theta):\n",
    "            xi, sigma, p_u = theta\n",
    "            return  gdp_returnlevel(return_period, self.u, xi, sigma, p_u, period = period)\n",
    "\n",
    "        delta = grad(rl)(np.array([self.xi, self.sigma, self.p_u()]))\n",
    "\n",
    "        cov = np.zeros((3,3))\n",
    "        cov[:2,:2] = self.cov()\n",
    "        cov[2,2] = self.p_u_var()\n",
    "\n",
    "        return np.sqrt((delta.dot(cov)).dot(delta))\n",
    "\n",
    "    def return_level_se(self, return_period, period = 1.0):\n",
    "\n",
    "        return np.vectorize(self._return_level_se)(return_period, period = period)\n",
    "\n",
    "    \n",
    "    def _return_periods(self, n=20):\n",
    "\n",
    "        return 1.0/np.linspace(self.n_exceed/self.n_sample, 1.0/self.n_sample, n)\n",
    "\n",
    "\n",
    "    def return_level_plot(self, include_ci = False, log_scale=True):\n",
    "\n",
    "        rp = self._return_periods(n = 50)\n",
    "        rl = self.return_level(rp)\n",
    "\n",
    "        plt.plot(rp,rl)\n",
    "        \n",
    "        if include_ci:\n",
    "            rl_se = self.return_level_se(rp)\n",
    "            plt.fill_between(rp, rl-2.0*rl_se,rl+2.0*rl_se,alpha=0.25)\n",
    "        \n",
    "        plt.xlabel('return period')\n",
    "        plt.ylabel('return level')\n",
    "\n",
    "        if log_scale:\n",
    "            plt.xscale('log')\n",
    "        plt.show()\n",
    "\n"
   ]
  },
  {
   "cell_type": "code",
   "execution_count": 146,
   "metadata": {},
   "outputs": [
    {
     "name": "stdout",
     "output_type": "stream",
     "text": [
      "Optimization terminated successfully.\n",
      "         Current function value: 10.351038\n",
      "         Iterations: 59\n",
      "         Function evaluations: 110\n"
     ]
    }
   ],
   "source": [
    "gpddemo = GPDMLE(2.0)\n",
    "gpddemo.fit(x_data)"
   ]
  },
  {
   "cell_type": "code",
   "execution_count": 147,
   "metadata": {},
   "outputs": [
    {
     "data": {
      "text/plain": [
       "({'xi': -0.10735350226496125, 'sigma': 0.4295826116817366},\n",
       " {'xi': (-0.22838787954672976, 0.013680875016807259),\n",
       "  'sigma': (0.3516956339051176, 0.5074695894583556)})"
      ]
     },
     "execution_count": 147,
     "metadata": {},
     "output_type": "execute_result"
    }
   ],
   "source": [
    "gpddemo.get_params(include_ci=True)"
   ]
  },
  {
   "cell_type": "code",
   "execution_count": 148,
   "metadata": {},
   "outputs": [
    {
     "data": {
      "text/plain": [
       "2.319345336169489"
      ]
     },
     "execution_count": 148,
     "metadata": {},
     "output_type": "execute_result"
    }
   ],
   "source": [
    "gpddemo.return_level(100.0)"
   ]
  },
  {
   "cell_type": "code",
   "execution_count": 151,
   "metadata": {},
   "outputs": [
    {
     "data": {
      "image/png": "[encoded data removed]",
      "text/plain": [
       "<Figure size 640x480 with 1 Axes>"
      ]
     },
     "metadata": {},
     "output_type": "display_data"
    }
   ],
   "source": [
    "gpddemo.return_level_plot(include_ci=True)"
   ]
  },
  {
   "cell_type": "code",
   "execution_count": null,
   "metadata": {},
   "outputs": [],
   "source": []
  }
 ],
 "metadata": {
  "kernelspec": {
   "display_name": "Python 3",
   "language": "python",
   "name": "python3"
  },
  "language_info": {
   "codemirror_mode": {
    "name": "ipython",
    "version": 3
   },
   "file_extension": ".py",
   "mimetype": "text/x-python",
   "name": "python",
   "nbconvert_exporter": "python",
   "pygments_lexer": "ipython3",
   "version": "3.9.15"
  },
  "orig_nbformat": 4,
  "vscode": {
   "interpreter": {
    "hash": "2d847e021f1b4c926065ca624fa7db1e4fc95549dbb4b1ff85748d1fc237288e"
   }
  }
 },
 "nbformat": 4,
 "nbformat_minor": 2
}
