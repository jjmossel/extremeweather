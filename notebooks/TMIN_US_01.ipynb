{
 "cells": [
  {
   "cell_type": "code",
   "execution_count": 1,
   "metadata": {},
   "outputs": [],
   "source": [
    "import sys\n",
    "sys.path.append('..')\n",
    "\n",
    "import pandas as pd\n",
    "import matplotlib.pyplot as plt\n",
    "import numpy as np\n",
    "\n",
    "from scipy.interpolate import griddata\n",
    "from sklearn.gaussian_process import GaussianProcessRegressor\n",
    "from sklearn.gaussian_process.kernels import RBF, WhiteKernel\n",
    "\n",
    "from noaa.ghcnd import NOAAStore\n",
    "from extremevalue.gpd import GPDMLE, GEVMLE_ts\n",
    "from utils.geodata import usa_grid"
   ]
  },
  {
   "cell_type": "code",
   "execution_count": 2,
   "metadata": {},
   "outputs": [],
   "source": [
    "%load_ext autoreload\n",
    "%autoreload 2"
   ]
  },
  {
   "attachments": {},
   "cell_type": "markdown",
   "metadata": {},
   "source": [
    "## Load data from cache"
   ]
  },
  {
   "cell_type": "code",
   "execution_count": 3,
   "metadata": {},
   "outputs": [],
   "source": [
    "store = NOAAStore()\n",
    "stations = store.stations()"
   ]
  },
  {
   "cell_type": "code",
   "execution_count": 4,
   "metadata": {},
   "outputs": [],
   "source": [
    "tmin = store.timeseries_universe(element='TMIN')"
   ]
  },
  {
   "cell_type": "code",
   "execution_count": 5,
   "metadata": {},
   "outputs": [],
   "source": [
    "def clean_tmin(ts):\n",
    "    \n",
    "    min = ts.min()\n",
    "    pct01 = ts.quantile(0.01)\n",
    "\n",
    "    return ts[(ts>(pct01-30))&(ts<40)]"
   ]
  },
  {
   "cell_type": "code",
   "execution_count": 6,
   "metadata": {},
   "outputs": [],
   "source": [
    "tmin_clean = tmin.groupby('id',group_keys=False).apply(clean_tmin)"
   ]
  },
  {
   "cell_type": "code",
   "execution_count": 7,
   "metadata": {},
   "outputs": [],
   "source": [
    "def coverage(s):\n",
    "    start = s.index.get_level_values('date').min()\n",
    "    end = s.index.get_level_values('date').max()\n",
    "    count = s.count()\n",
    "    length = (end-start).days+1\n",
    "    coverage = count/length\n",
    "    return {'start':start,'end':end,'coverage':coverage}\n",
    "    "
   ]
  },
  {
   "cell_type": "code",
   "execution_count": 8,
   "metadata": {},
   "outputs": [],
   "source": [
    "tmin_stats = pd.DataFrame(tmin_clean.groupby('id').apply(coverage)).unstack(1)['value'].sort_values('coverage')"
   ]
  },
  {
   "cell_type": "code",
   "execution_count": 9,
   "metadata": {},
   "outputs": [
    {
     "data": {
      "text/html": [
       "<div>\n",
       "<style scoped>\n",
       "    .dataframe tbody tr th:only-of-type {\n",
       "        vertical-align: middle;\n",
       "    }\n",
       "\n",
       "    .dataframe tbody tr th {\n",
       "        vertical-align: top;\n",
       "    }\n",
       "\n",
       "    .dataframe thead th {\n",
       "        text-align: right;\n",
       "    }\n",
       "</style>\n",
       "<table border=\"1\" class=\"dataframe\">\n",
       "  <thead>\n",
       "    <tr style=\"text-align: right;\">\n",
       "      <th></th>\n",
       "      <th>start</th>\n",
       "      <th>end</th>\n",
       "      <th>coverage</th>\n",
       "    </tr>\n",
       "    <tr>\n",
       "      <th>id</th>\n",
       "      <th></th>\n",
       "      <th></th>\n",
       "      <th></th>\n",
       "    </tr>\n",
       "  </thead>\n",
       "  <tbody>\n",
       "    <tr>\n",
       "      <th>USC00205403</th>\n",
       "      <td>1943-02-13</td>\n",
       "      <td>2022-12-02</td>\n",
       "      <td>0.009263</td>\n",
       "    </tr>\n",
       "    <tr>\n",
       "      <th>USC00308455</th>\n",
       "      <td>1941-06-10</td>\n",
       "      <td>2022-10-19</td>\n",
       "      <td>0.05374</td>\n",
       "    </tr>\n",
       "    <tr>\n",
       "      <th>USC00256335</th>\n",
       "      <td>1966-08-01</td>\n",
       "      <td>2022-12-21</td>\n",
       "      <td>0.055445</td>\n",
       "    </tr>\n",
       "    <tr>\n",
       "      <th>USC00057460</th>\n",
       "      <td>1900-09-01</td>\n",
       "      <td>2022-11-30</td>\n",
       "      <td>0.087232</td>\n",
       "    </tr>\n",
       "    <tr>\n",
       "      <th>USC00113312</th>\n",
       "      <td>1900-01-01</td>\n",
       "      <td>2022-04-13</td>\n",
       "      <td>0.089582</td>\n",
       "    </tr>\n",
       "  </tbody>\n",
       "</table>\n",
       "</div>"
      ],
      "text/plain": [
       "                 start        end  coverage\n",
       "id                                         \n",
       "USC00205403 1943-02-13 2022-12-02  0.009263\n",
       "USC00308455 1941-06-10 2022-10-19   0.05374\n",
       "USC00256335 1966-08-01 2022-12-21  0.055445\n",
       "USC00057460 1900-09-01 2022-11-30  0.087232\n",
       "USC00113312 1900-01-01 2022-04-13  0.089582"
      ]
     },
     "execution_count": 9,
     "metadata": {},
     "output_type": "execute_result"
    }
   ],
   "source": [
    "tmin_stats.head()"
   ]
  },
  {
   "cell_type": "code",
   "execution_count": 13,
   "metadata": {},
   "outputs": [],
   "source": [
    "def returnlevel_stats(ts,method='gpd'):\n",
    "    start = ts.index.get_level_values('date').min()\n",
    "    end = ts.index.get_level_values('date').max()\n",
    "    count = ts.count()\n",
    "    length = (end-start).days+1\n",
    "    coverage = count/length\n",
    "    \n",
    "    rl = {\n",
    "        '10y'     : np.nan,\n",
    "        '10y_se'  : np.nan,\n",
    "        '100y'    : np.nan,\n",
    "        '100y_se' : np.nan,\n",
    "        'mu'      : np.nan,\n",
    "        'sigma'   : np.nan,\n",
    "        'xi'      : np.nan,\n",
    "        'n_sample': np.nan,\n",
    "    }\n",
    "    \n",
    "    if (count < 10000) | (coverage < 0.85):\n",
    "        return rl\n",
    "    \n",
    "    if method == 'gpd':\n",
    "        u = ts.quantile(0.995)\n",
    "        gpd = GPDMLE(u)\n",
    "        gpd.fit(ts.values)\n",
    "\n",
    "        period_1y = 365.25\n",
    "\n",
    "        params = gpd.get_params()\n",
    "        params['mu'] = u\n",
    "\n",
    "        rl['10y'] =  gpd.return_level(10.0, period=period_1y)\n",
    "        rl['10y_se'] =  gpd.return_level_se(10.0, period=period_1y)\n",
    "        rl['100y'] =  gpd.return_level(100.0, period=period_1y)\n",
    "        rl['100y_se'] =  gpd.return_level_se(100.0, period=period_1y)\n",
    "        rl['n_sample'] = len(gpd.x_exceed)\n",
    "\n",
    "    elif method == 'gev':\n",
    "        gev = GEVMLE_ts()\n",
    "        \n",
    "        ts.index = ts.index.droplevel('id')\n",
    "\n",
    "        try:\n",
    "            gev.fit(ts)\n",
    "\n",
    "            params = gev.get_params()\n",
    "\n",
    "\n",
    "            rl['10y'] =  gev.return_level(10.0)\n",
    "            rl['10y_se'] =  gev.return_level_se(10.0)\n",
    "            rl['100y'] =  gev.return_level(100.0)\n",
    "            rl['100y_se'] =  gev.return_level_se(100.0)\n",
    "            rl['n_sample'] = len(gev.x_max)\n",
    "        except:\n",
    "            print('failed to fit')\n",
    "\n",
    "\n",
    "    rl['xi'] = params['xi']\n",
    "    rl['sigma'] = params['sigma']\n",
    "    rl['mu'] = params['mu']\n",
    "\n",
    "    return rl\n",
    "\n",
    "def returnlevel_stats_gev(ts):\n",
    "    return returnlevel_stats(ts,method='gev')\n",
    "\n",
    "def returnlevel_stats_gdp(ts):\n",
    "    return returnlevel_stats(ts,method='gpd')"
   ]
  },
  {
   "cell_type": "code",
   "execution_count": 11,
   "metadata": {},
   "outputs": [
    {
     "name": "stderr",
     "output_type": "stream",
     "text": [
      "/Users/mosselveen/dev/extremeweather/.conda/lib/python3.10/site-packages/autograd/tracer.py:48: RuntimeWarning: invalid value encountered in log\n",
      "  return f_raw(*args, **kwargs)\n",
      "/Users/mosselveen/dev/extremeweather/.conda/lib/python3.10/site-packages/autograd/tracer.py:48: RuntimeWarning: invalid value encountered in sqrt\n",
      "  return f_raw(*args, **kwargs)\n",
      "/Users/mosselveen/dev/extremeweather/.conda/lib/python3.10/site-packages/numpy/lib/function_base.py:2412: RuntimeWarning: invalid value encountered in func (vectorized)\n",
      "  outputs = ufunc(*inputs)\n"
     ]
    }
   ],
   "source": [
    "tmin_gpd = (-tmin_clean).groupby('id').apply(returnlevel_stats_gdp).unstack(1).dropna()"
   ]
  },
  {
   "cell_type": "code",
   "execution_count": 14,
   "metadata": {},
   "outputs": [
    {
     "name": "stdout",
     "output_type": "stream",
     "text": [
      "failed to fit\n"
     ]
    },
    {
     "name": "stderr",
     "output_type": "stream",
     "text": [
      "/Users/mosselveen/dev/extremeweather/.conda/lib/python3.10/site-packages/autograd/tracer.py:48: RuntimeWarning: invalid value encountered in sqrt\n",
      "  return f_raw(*args, **kwargs)\n",
      "/Users/mosselveen/dev/extremeweather/.conda/lib/python3.10/site-packages/numpy/lib/function_base.py:2412: RuntimeWarning: invalid value encountered in _return_level_se (vectorized)\n",
      "  outputs = ufunc(*inputs)\n"
     ]
    },
    {
     "name": "stdout",
     "output_type": "stream",
     "text": [
      "failed to fit\n"
     ]
    },
    {
     "name": "stderr",
     "output_type": "stream",
     "text": [
      "/Users/mosselveen/dev/extremeweather/.conda/lib/python3.10/site-packages/autograd/tracer.py:48: RuntimeWarning: invalid value encountered in sqrt\n",
      "  return f_raw(*args, **kwargs)\n",
      "/Users/mosselveen/dev/extremeweather/.conda/lib/python3.10/site-packages/numpy/lib/function_base.py:2412: RuntimeWarning: invalid value encountered in _return_level_se (vectorized)\n",
      "  outputs = ufunc(*inputs)\n"
     ]
    },
    {
     "name": "stdout",
     "output_type": "stream",
     "text": [
      "failed to fit\n",
      "failed to fit\n",
      "failed to fit\n",
      "failed to fit\n"
     ]
    },
    {
     "name": "stderr",
     "output_type": "stream",
     "text": [
      "/Users/mosselveen/dev/extremeweather/.conda/lib/python3.10/site-packages/autograd/tracer.py:48: RuntimeWarning: invalid value encountered in sqrt\n",
      "  return f_raw(*args, **kwargs)\n",
      "/Users/mosselveen/dev/extremeweather/.conda/lib/python3.10/site-packages/numpy/lib/function_base.py:2412: RuntimeWarning: invalid value encountered in _return_level_se (vectorized)\n",
      "  outputs = ufunc(*inputs)\n"
     ]
    },
    {
     "name": "stdout",
     "output_type": "stream",
     "text": [
      "failed to fit\n",
      "failed to fit\n",
      "failed to fit\n",
      "failed to fit\n",
      "failed to fit\n",
      "failed to fit\n",
      "failed to fit\n",
      "failed to fit\n"
     ]
    },
    {
     "name": "stderr",
     "output_type": "stream",
     "text": [
      "/Users/mosselveen/dev/extremeweather/.conda/lib/python3.10/site-packages/autograd/tracer.py:48: RuntimeWarning: invalid value encountered in sqrt\n",
      "  return f_raw(*args, **kwargs)\n",
      "/Users/mosselveen/dev/extremeweather/.conda/lib/python3.10/site-packages/numpy/lib/function_base.py:2412: RuntimeWarning: invalid value encountered in _return_level_se (vectorized)\n",
      "  outputs = ufunc(*inputs)\n",
      "/Users/mosselveen/dev/extremeweather/.conda/lib/python3.10/site-packages/autograd/tracer.py:48: RuntimeWarning: invalid value encountered in sqrt\n",
      "  return f_raw(*args, **kwargs)\n",
      "/Users/mosselveen/dev/extremeweather/.conda/lib/python3.10/site-packages/numpy/lib/function_base.py:2412: RuntimeWarning: invalid value encountered in _return_level_se (vectorized)\n",
      "  outputs = ufunc(*inputs)\n"
     ]
    },
    {
     "name": "stdout",
     "output_type": "stream",
     "text": [
      "failed to fit\n",
      "failed to fit\n"
     ]
    },
    {
     "name": "stderr",
     "output_type": "stream",
     "text": [
      "/Users/mosselveen/dev/extremeweather/.conda/lib/python3.10/site-packages/autograd/tracer.py:48: RuntimeWarning: invalid value encountered in sqrt\n",
      "  return f_raw(*args, **kwargs)\n",
      "/Users/mosselveen/dev/extremeweather/.conda/lib/python3.10/site-packages/numpy/lib/function_base.py:2412: RuntimeWarning: invalid value encountered in _return_level_se (vectorized)\n",
      "  outputs = ufunc(*inputs)\n"
     ]
    },
    {
     "name": "stdout",
     "output_type": "stream",
     "text": [
      "failed to fit\n"
     ]
    },
    {
     "name": "stderr",
     "output_type": "stream",
     "text": [
      "/Users/mosselveen/dev/extremeweather/.conda/lib/python3.10/site-packages/autograd/tracer.py:48: RuntimeWarning: invalid value encountered in sqrt\n",
      "  return f_raw(*args, **kwargs)\n",
      "/Users/mosselveen/dev/extremeweather/.conda/lib/python3.10/site-packages/numpy/lib/function_base.py:2412: RuntimeWarning: invalid value encountered in _return_level_se (vectorized)\n",
      "  outputs = ufunc(*inputs)\n"
     ]
    },
    {
     "name": "stdout",
     "output_type": "stream",
     "text": [
      "failed to fit\n",
      "failed to fit\n",
      "failed to fit\n",
      "failed to fit\n",
      "failed to fit\n",
      "failed to fit\n",
      "failed to fit\n",
      "failed to fit\n",
      "failed to fit\n",
      "failed to fit\n",
      "failed to fit\n",
      "failed to fit\n",
      "failed to fit\n",
      "failed to fit\n",
      "failed to fit\n",
      "failed to fit\n"
     ]
    },
    {
     "name": "stderr",
     "output_type": "stream",
     "text": [
      "/Users/mosselveen/dev/extremeweather/.conda/lib/python3.10/site-packages/autograd/tracer.py:48: RuntimeWarning: invalid value encountered in sqrt\n",
      "  return f_raw(*args, **kwargs)\n",
      "/Users/mosselveen/dev/extremeweather/.conda/lib/python3.10/site-packages/numpy/lib/function_base.py:2412: RuntimeWarning: invalid value encountered in _return_level_se (vectorized)\n",
      "  outputs = ufunc(*inputs)\n"
     ]
    },
    {
     "name": "stdout",
     "output_type": "stream",
     "text": [
      "failed to fit\n",
      "failed to fit\n",
      "failed to fit\n"
     ]
    },
    {
     "name": "stderr",
     "output_type": "stream",
     "text": [
      "/Users/mosselveen/dev/extremeweather/.conda/lib/python3.10/site-packages/autograd/tracer.py:48: RuntimeWarning: invalid value encountered in sqrt\n",
      "  return f_raw(*args, **kwargs)\n",
      "/Users/mosselveen/dev/extremeweather/.conda/lib/python3.10/site-packages/numpy/lib/function_base.py:2412: RuntimeWarning: invalid value encountered in _return_level_se (vectorized)\n",
      "  outputs = ufunc(*inputs)\n"
     ]
    },
    {
     "name": "stdout",
     "output_type": "stream",
     "text": [
      "failed to fit\n"
     ]
    },
    {
     "name": "stderr",
     "output_type": "stream",
     "text": [
      "/Users/mosselveen/dev/extremeweather/.conda/lib/python3.10/site-packages/autograd/tracer.py:48: RuntimeWarning: invalid value encountered in sqrt\n",
      "  return f_raw(*args, **kwargs)\n",
      "/Users/mosselveen/dev/extremeweather/.conda/lib/python3.10/site-packages/numpy/lib/function_base.py:2412: RuntimeWarning: invalid value encountered in _return_level_se (vectorized)\n",
      "  outputs = ufunc(*inputs)\n"
     ]
    },
    {
     "name": "stdout",
     "output_type": "stream",
     "text": [
      "failed to fit\n",
      "failed to fit\n",
      "failed to fit\n",
      "failed to fit\n",
      "failed to fit\n",
      "failed to fit\n",
      "failed to fit\n",
      "failed to fit\n"
     ]
    }
   ],
   "source": [
    "tmin_gev = (-tmin_clean).groupby('id').apply(returnlevel_stats_gev).unstack(1).dropna()"
   ]
  },
  {
   "cell_type": "code",
   "execution_count": 30,
   "metadata": {},
   "outputs": [
    {
     "data": {
      "text/html": [
       "<div>\n",
       "<style scoped>\n",
       "    .dataframe tbody tr th:only-of-type {\n",
       "        vertical-align: middle;\n",
       "    }\n",
       "\n",
       "    .dataframe tbody tr th {\n",
       "        vertical-align: top;\n",
       "    }\n",
       "\n",
       "    .dataframe thead th {\n",
       "        text-align: right;\n",
       "    }\n",
       "</style>\n",
       "<table border=\"1\" class=\"dataframe\">\n",
       "  <thead>\n",
       "    <tr style=\"text-align: right;\">\n",
       "      <th></th>\n",
       "      <th>10y</th>\n",
       "      <th>10y_se</th>\n",
       "      <th>100y</th>\n",
       "      <th>100y_se</th>\n",
       "      <th>mu</th>\n",
       "      <th>sigma</th>\n",
       "      <th>xi</th>\n",
       "      <th>n_sample</th>\n",
       "    </tr>\n",
       "    <tr>\n",
       "      <th>id</th>\n",
       "      <th></th>\n",
       "      <th></th>\n",
       "      <th></th>\n",
       "      <th></th>\n",
       "      <th></th>\n",
       "      <th></th>\n",
       "      <th></th>\n",
       "      <th></th>\n",
       "    </tr>\n",
       "  </thead>\n",
       "  <tbody>\n",
       "    <tr>\n",
       "      <th>USC00364214</th>\n",
       "      <td>32.19987</td>\n",
       "      <td>7.221566867282411e-12</td>\n",
       "      <td>32.2</td>\n",
       "      <td>3.3774952334517045e-15</td>\n",
       "      <td>31.805225</td>\n",
       "      <td>1.406714</td>\n",
       "      <td>-3.563336</td>\n",
       "      <td>76.0</td>\n",
       "    </tr>\n",
       "    <tr>\n",
       "      <th>USC00241044</th>\n",
       "      <td>41.699857</td>\n",
       "      <td>7.739943546291998e-12</td>\n",
       "      <td>41.7</td>\n",
       "      <td>3.5989863592114535e-15</td>\n",
       "      <td>41.257487</td>\n",
       "      <td>1.580557</td>\n",
       "      <td>-3.571775</td>\n",
       "      <td>122.0</td>\n",
       "    </tr>\n",
       "    <tr>\n",
       "      <th>USC00391294</th>\n",
       "      <td>49.399956</td>\n",
       "      <td>7.876363478009204e-12</td>\n",
       "      <td>49.4</td>\n",
       "      <td>1.2443323936214293e-15</td>\n",
       "      <td>49.008191</td>\n",
       "      <td>1.582561</td>\n",
       "      <td>-4.039118</td>\n",
       "      <td>97.0</td>\n",
       "    </tr>\n",
       "    <tr>\n",
       "      <th>USC00101408</th>\n",
       "      <td>37.199916</td>\n",
       "      <td>8.968646404877998e-12</td>\n",
       "      <td>37.2</td>\n",
       "      <td>2.485947925305862e-15</td>\n",
       "      <td>36.795932</td>\n",
       "      <td>1.521523</td>\n",
       "      <td>-3.76551</td>\n",
       "      <td>111.0</td>\n",
       "    </tr>\n",
       "    <tr>\n",
       "      <th>USC00203529</th>\n",
       "      <td>39.999759</td>\n",
       "      <td>9.560030296019866e-12</td>\n",
       "      <td>40.0</td>\n",
       "      <td>4.150363546803853e-15</td>\n",
       "      <td>39.437899</td>\n",
       "      <td>1.936693</td>\n",
       "      <td>-3.445455</td>\n",
       "      <td>101.0</td>\n",
       "    </tr>\n",
       "    <tr>\n",
       "      <th>...</th>\n",
       "      <td>...</td>\n",
       "      <td>...</td>\n",
       "      <td>...</td>\n",
       "      <td>...</td>\n",
       "      <td>...</td>\n",
       "      <td>...</td>\n",
       "      <td>...</td>\n",
       "      <td>...</td>\n",
       "    </tr>\n",
       "    <tr>\n",
       "      <th>USW00012850</th>\n",
       "      <td>-4.159481</td>\n",
       "      <td>1.3381436370652138</td>\n",
       "      <td>10.119339</td>\n",
       "      <td>6.9090817193079594</td>\n",
       "      <td>-10.710471</td>\n",
       "      <td>1.989836</td>\n",
       "      <td>0.319124</td>\n",
       "      <td>59.0</td>\n",
       "    </tr>\n",
       "    <tr>\n",
       "      <th>USC00106844</th>\n",
       "      <td>28.335616</td>\n",
       "      <td>1.3427336005805368</td>\n",
       "      <td>39.771134</td>\n",
       "      <td>4.231497881760228</td>\n",
       "      <td>16.869829</td>\n",
       "      <td>5.210284</td>\n",
       "      <td>-0.019947</td>\n",
       "      <td>89.0</td>\n",
       "    </tr>\n",
       "    <tr>\n",
       "      <th>USC00264349</th>\n",
       "      <td>22.264127</td>\n",
       "      <td>1.3435751051363443</td>\n",
       "      <td>34.267819</td>\n",
       "      <td>5.4700748599370055</td>\n",
       "      <td>13.398521</td>\n",
       "      <td>3.460535</td>\n",
       "      <td>0.11285</td>\n",
       "      <td>75.0</td>\n",
       "    </tr>\n",
       "    <tr>\n",
       "      <th>USW00012928</th>\n",
       "      <td>11.300748</td>\n",
       "      <td>2.0732920161208086</td>\n",
       "      <td>34.221274</td>\n",
       "      <td>12.872901031918273</td>\n",
       "      <td>1.860716</td>\n",
       "      <td>2.702617</td>\n",
       "      <td>0.365781</td>\n",
       "      <td>61.0</td>\n",
       "    </tr>\n",
       "    <tr>\n",
       "      <th>USC00358634</th>\n",
       "      <td>18.341533</td>\n",
       "      <td>2.9434684876331163</td>\n",
       "      <td>50.46339</td>\n",
       "      <td>19.90393836738723</td>\n",
       "      <td>6.009538</td>\n",
       "      <td>3.395572</td>\n",
       "      <td>0.396144</td>\n",
       "      <td>56.0</td>\n",
       "    </tr>\n",
       "  </tbody>\n",
       "</table>\n",
       "<p>1767 rows × 8 columns</p>\n",
       "</div>"
      ],
      "text/plain": [
       "                   10y                 10y_se       100y  \\\n",
       "id                                                         \n",
       "USC00364214   32.19987  7.221566867282411e-12       32.2   \n",
       "USC00241044  41.699857  7.739943546291998e-12       41.7   \n",
       "USC00391294  49.399956  7.876363478009204e-12       49.4   \n",
       "USC00101408  37.199916  8.968646404877998e-12       37.2   \n",
       "USC00203529  39.999759  9.560030296019866e-12       40.0   \n",
       "...                ...                    ...        ...   \n",
       "USW00012850  -4.159481     1.3381436370652138  10.119339   \n",
       "USC00106844  28.335616     1.3427336005805368  39.771134   \n",
       "USC00264349  22.264127     1.3435751051363443  34.267819   \n",
       "USW00012928  11.300748     2.0732920161208086  34.221274   \n",
       "USC00358634  18.341533     2.9434684876331163   50.46339   \n",
       "\n",
       "                            100y_se         mu     sigma        xi n_sample  \n",
       "id                                                                           \n",
       "USC00364214  3.3774952334517045e-15  31.805225  1.406714 -3.563336     76.0  \n",
       "USC00241044  3.5989863592114535e-15  41.257487  1.580557 -3.571775    122.0  \n",
       "USC00391294  1.2443323936214293e-15  49.008191  1.582561 -4.039118     97.0  \n",
       "USC00101408   2.485947925305862e-15  36.795932  1.521523  -3.76551    111.0  \n",
       "USC00203529   4.150363546803853e-15  39.437899  1.936693 -3.445455    101.0  \n",
       "...                             ...        ...       ...       ...      ...  \n",
       "USW00012850      6.9090817193079594 -10.710471  1.989836  0.319124     59.0  \n",
       "USC00106844       4.231497881760228  16.869829  5.210284 -0.019947     89.0  \n",
       "USC00264349      5.4700748599370055  13.398521  3.460535   0.11285     75.0  \n",
       "USW00012928      12.872901031918273   1.860716  2.702617  0.365781     61.0  \n",
       "USC00358634       19.90393836738723   6.009538  3.395572  0.396144     56.0  \n",
       "\n",
       "[1767 rows x 8 columns]"
      ]
     },
     "execution_count": 30,
     "metadata": {},
     "output_type": "execute_result"
    }
   ],
   "source": [
    "tmin_gev.sort_values('10y_se')"
   ]
  },
  {
   "cell_type": "code",
   "execution_count": 17,
   "metadata": {},
   "outputs": [],
   "source": [
    "# tmin_gev[tmin_gev['xi'].abs()<0.0001]"
   ]
  },
  {
   "attachments": {},
   "cell_type": "markdown",
   "metadata": {},
   "source": [
    "## Compute statistics\n",
    "* Coverage\n",
    "* Return levels + standard errors\n",
    "* Mean "
   ]
  },
  {
   "cell_type": "code",
   "execution_count": 81,
   "metadata": {},
   "outputs": [
    {
     "data": {
      "text/html": [
       "<div>\n",
       "<style scoped>\n",
       "    .dataframe tbody tr th:only-of-type {\n",
       "        vertical-align: middle;\n",
       "    }\n",
       "\n",
       "    .dataframe tbody tr th {\n",
       "        vertical-align: top;\n",
       "    }\n",
       "\n",
       "    .dataframe thead th {\n",
       "        text-align: right;\n",
       "    }\n",
       "</style>\n",
       "<table border=\"1\" class=\"dataframe\">\n",
       "  <thead>\n",
       "    <tr style=\"text-align: right;\">\n",
       "      <th></th>\n",
       "      <th>10y</th>\n",
       "      <th>10y_se</th>\n",
       "      <th>latitude</th>\n",
       "      <th>longitude</th>\n",
       "      <th>elevation</th>\n",
       "      <th>state</th>\n",
       "      <th>name</th>\n",
       "      <th>country</th>\n",
       "    </tr>\n",
       "    <tr>\n",
       "      <th>id</th>\n",
       "      <th></th>\n",
       "      <th></th>\n",
       "      <th></th>\n",
       "      <th></th>\n",
       "      <th></th>\n",
       "      <th></th>\n",
       "      <th></th>\n",
       "      <th></th>\n",
       "    </tr>\n",
       "  </thead>\n",
       "  <tbody>\n",
       "    <tr>\n",
       "      <th>USC00364214</th>\n",
       "      <td>32.199870</td>\n",
       "      <td>7.221567e-12</td>\n",
       "      <td>40.5972</td>\n",
       "      <td>-79.1186</td>\n",
       "      <td>335.9</td>\n",
       "      <td>PA</td>\n",
       "      <td>INDIANA 3 SE</td>\n",
       "      <td>US</td>\n",
       "    </tr>\n",
       "    <tr>\n",
       "      <th>USC00241044</th>\n",
       "      <td>41.699857</td>\n",
       "      <td>7.739944e-12</td>\n",
       "      <td>45.6622</td>\n",
       "      <td>-111.0464</td>\n",
       "      <td>1497.5</td>\n",
       "      <td>MT</td>\n",
       "      <td>BOZEMAN MONTANA STATE UNIV</td>\n",
       "      <td>US</td>\n",
       "    </tr>\n",
       "    <tr>\n",
       "      <th>USC00391294</th>\n",
       "      <td>49.399956</td>\n",
       "      <td>7.876363e-12</td>\n",
       "      <td>45.5489</td>\n",
       "      <td>-103.9744</td>\n",
       "      <td>951.0</td>\n",
       "      <td>SD</td>\n",
       "      <td>CAMP CROOK</td>\n",
       "      <td>US</td>\n",
       "    </tr>\n",
       "    <tr>\n",
       "      <th>USC00101408</th>\n",
       "      <td>37.199916</td>\n",
       "      <td>8.968646e-12</td>\n",
       "      <td>44.5733</td>\n",
       "      <td>-116.6753</td>\n",
       "      <td>807.7</td>\n",
       "      <td>ID</td>\n",
       "      <td>CAMBRIDGE</td>\n",
       "      <td>US</td>\n",
       "    </tr>\n",
       "    <tr>\n",
       "      <th>USC00203529</th>\n",
       "      <td>39.999759</td>\n",
       "      <td>9.560030e-12</td>\n",
       "      <td>44.4633</td>\n",
       "      <td>-83.7217</td>\n",
       "      <td>221.9</td>\n",
       "      <td>MI</td>\n",
       "      <td>HALE LOUD DAM</td>\n",
       "      <td>US</td>\n",
       "    </tr>\n",
       "    <tr>\n",
       "      <th>...</th>\n",
       "      <td>...</td>\n",
       "      <td>...</td>\n",
       "      <td>...</td>\n",
       "      <td>...</td>\n",
       "      <td>...</td>\n",
       "      <td>...</td>\n",
       "      <td>...</td>\n",
       "      <td>...</td>\n",
       "    </tr>\n",
       "    <tr>\n",
       "      <th>USW00012850</th>\n",
       "      <td>-4.159481</td>\n",
       "      <td>1.338144e+00</td>\n",
       "      <td>24.5833</td>\n",
       "      <td>-81.6833</td>\n",
       "      <td>1.8</td>\n",
       "      <td>FL</td>\n",
       "      <td>KEY WEST NAS</td>\n",
       "      <td>US</td>\n",
       "    </tr>\n",
       "    <tr>\n",
       "      <th>USC00106844</th>\n",
       "      <td>28.335616</td>\n",
       "      <td>1.342734e+00</td>\n",
       "      <td>43.8022</td>\n",
       "      <td>-116.9442</td>\n",
       "      <td>698.0</td>\n",
       "      <td>ID</td>\n",
       "      <td>PARMA EXP STN</td>\n",
       "      <td>US</td>\n",
       "    </tr>\n",
       "    <tr>\n",
       "      <th>USC00264349</th>\n",
       "      <td>22.264127</td>\n",
       "      <td>1.343575e+00</td>\n",
       "      <td>39.4689</td>\n",
       "      <td>-119.0644</td>\n",
       "      <td>1270.1</td>\n",
       "      <td>NV</td>\n",
       "      <td>LAHONTAN DAM</td>\n",
       "      <td>US</td>\n",
       "    </tr>\n",
       "    <tr>\n",
       "      <th>USW00012928</th>\n",
       "      <td>11.300748</td>\n",
       "      <td>2.073292e+00</td>\n",
       "      <td>27.5089</td>\n",
       "      <td>-97.8042</td>\n",
       "      <td>13.4</td>\n",
       "      <td>TX</td>\n",
       "      <td>KINGSVILLE NAAS</td>\n",
       "      <td>US</td>\n",
       "    </tr>\n",
       "    <tr>\n",
       "      <th>USC00358634</th>\n",
       "      <td>18.341533</td>\n",
       "      <td>2.943468e+00</td>\n",
       "      <td>45.5533</td>\n",
       "      <td>-122.3886</td>\n",
       "      <td>10.1</td>\n",
       "      <td>OR</td>\n",
       "      <td>TROUTDALE</td>\n",
       "      <td>US</td>\n",
       "    </tr>\n",
       "  </tbody>\n",
       "</table>\n",
       "<p>1727 rows × 8 columns</p>\n",
       "</div>"
      ],
      "text/plain": [
       "                   10y        10y_se  latitude  longitude  elevation state  \\\n",
       "id                                                                           \n",
       "USC00364214  32.199870  7.221567e-12   40.5972   -79.1186      335.9    PA   \n",
       "USC00241044  41.699857  7.739944e-12   45.6622  -111.0464     1497.5    MT   \n",
       "USC00391294  49.399956  7.876363e-12   45.5489  -103.9744      951.0    SD   \n",
       "USC00101408  37.199916  8.968646e-12   44.5733  -116.6753      807.7    ID   \n",
       "USC00203529  39.999759  9.560030e-12   44.4633   -83.7217      221.9    MI   \n",
       "...                ...           ...       ...        ...        ...   ...   \n",
       "USW00012850  -4.159481  1.338144e+00   24.5833   -81.6833        1.8    FL   \n",
       "USC00106844  28.335616  1.342734e+00   43.8022  -116.9442      698.0    ID   \n",
       "USC00264349  22.264127  1.343575e+00   39.4689  -119.0644     1270.1    NV   \n",
       "USW00012928  11.300748  2.073292e+00   27.5089   -97.8042       13.4    TX   \n",
       "USC00358634  18.341533  2.943468e+00   45.5533  -122.3886       10.1    OR   \n",
       "\n",
       "                                   name country  \n",
       "id                                               \n",
       "USC00364214                INDIANA 3 SE      US  \n",
       "USC00241044  BOZEMAN MONTANA STATE UNIV      US  \n",
       "USC00391294                  CAMP CROOK      US  \n",
       "USC00101408                   CAMBRIDGE      US  \n",
       "USC00203529               HALE LOUD DAM      US  \n",
       "...                                 ...     ...  \n",
       "USW00012850                KEY WEST NAS      US  \n",
       "USC00106844               PARMA EXP STN      US  \n",
       "USC00264349                LAHONTAN DAM      US  \n",
       "USW00012928             KINGSVILLE NAAS      US  \n",
       "USC00358634                   TROUTDALE      US  \n",
       "\n",
       "[1727 rows x 8 columns]"
      ]
     },
     "execution_count": 81,
     "metadata": {},
     "output_type": "execute_result"
    }
   ],
   "source": [
    "tmin_l48 = tmin_gev[['10y','10y_se']].join(stations).loc[lambda df: ~df['state'].isin(['AK','HI'])]\n",
    "tmin_l48[['10y','10y_se']] = tmin_l48[['10y','10y_se']].astype('float')\n",
    "tmin_l48 = tmin_l48.dropna()\n",
    "tmin_l48.sort_values('10y_se')"
   ]
  },
  {
   "attachments": {},
   "cell_type": "markdown",
   "metadata": {},
   "source": [
    "## Interpolate Using Gaussian Processes"
   ]
  },
  {
   "attachments": {},
   "cell_type": "markdown",
   "metadata": {},
   "source": [
    "### Define Grid Variables (for the lower 48)"
   ]
  },
  {
   "cell_type": "code",
   "execution_count": 33,
   "metadata": {},
   "outputs": [],
   "source": [
    "x_mesh, y_mesh, usa_mask = usa_grid(n_width=500, n_height=400)\n",
    "x_1d = x_mesh.ravel()\n",
    "y_1d = y_mesh.ravel()"
   ]
  },
  {
   "cell_type": "code",
   "execution_count": 82,
   "metadata": {},
   "outputs": [],
   "source": [
    "x_x = tmin_l48['longitude'].values\n",
    "x_y = tmin_l48['latitude'].values\n",
    "x_z = tmin_l48['elevation'].values/1000 #elevation in km\n",
    "\n",
    "y = -tmin_l48['10y'].astype('float').values\n",
    "y_var = np.power(tmin_l48['10y_se'].astype('float').values,2.0)\n",
    "X2 = np.array([x_x,x_y]).T\n",
    "X3 = np.array([x_x,x_y,x_z]).T"
   ]
  },
  {
   "cell_type": "code",
   "execution_count": 83,
   "metadata": {},
   "outputs": [
    {
     "data": {
      "text/html": [
       "<style>#sk-container-id-10 {color: black;background-color: white;}#sk-container-id-10 pre{padding: 0;}#sk-container-id-10 div.sk-toggleable {background-color: white;}#sk-container-id-10 label.sk-toggleable__label {cursor: pointer;display: block;width: 100%;margin-bottom: 0;padding: 0.3em;box-sizing: border-box;text-align: center;}#sk-container-id-10 label.sk-toggleable__label-arrow:before {content: \"▸\";float: left;margin-right: 0.25em;color: #696969;}#sk-container-id-10 label.sk-toggleable__label-arrow:hover:before {color: black;}#sk-container-id-10 div.sk-estimator:hover label.sk-toggleable__label-arrow:before {color: black;}#sk-container-id-10 div.sk-toggleable__content {max-height: 0;max-width: 0;overflow: hidden;text-align: left;background-color: #f0f8ff;}#sk-container-id-10 div.sk-toggleable__content pre {margin: 0.2em;color: black;border-radius: 0.25em;background-color: #f0f8ff;}#sk-container-id-10 input.sk-toggleable__control:checked~div.sk-toggleable__content {max-height: 200px;max-width: 100%;overflow: auto;}#sk-container-id-10 input.sk-toggleable__control:checked~label.sk-toggleable__label-arrow:before {content: \"▾\";}#sk-container-id-10 div.sk-estimator input.sk-toggleable__control:checked~label.sk-toggleable__label {background-color: #d4ebff;}#sk-container-id-10 div.sk-label input.sk-toggleable__control:checked~label.sk-toggleable__label {background-color: #d4ebff;}#sk-container-id-10 input.sk-hidden--visually {border: 0;clip: rect(1px 1px 1px 1px);clip: rect(1px, 1px, 1px, 1px);height: 1px;margin: -1px;overflow: hidden;padding: 0;position: absolute;width: 1px;}#sk-container-id-10 div.sk-estimator {font-family: monospace;background-color: #f0f8ff;border: 1px dotted black;border-radius: 0.25em;box-sizing: border-box;margin-bottom: 0.5em;}#sk-container-id-10 div.sk-estimator:hover {background-color: #d4ebff;}#sk-container-id-10 div.sk-parallel-item::after {content: \"\";width: 100%;border-bottom: 1px solid gray;flex-grow: 1;}#sk-container-id-10 div.sk-label:hover label.sk-toggleable__label {background-color: #d4ebff;}#sk-container-id-10 div.sk-serial::before {content: \"\";position: absolute;border-left: 1px solid gray;box-sizing: border-box;top: 0;bottom: 0;left: 50%;z-index: 0;}#sk-container-id-10 div.sk-serial {display: flex;flex-direction: column;align-items: center;background-color: white;padding-right: 0.2em;padding-left: 0.2em;position: relative;}#sk-container-id-10 div.sk-item {position: relative;z-index: 1;}#sk-container-id-10 div.sk-parallel {display: flex;align-items: stretch;justify-content: center;background-color: white;position: relative;}#sk-container-id-10 div.sk-item::before, #sk-container-id-10 div.sk-parallel-item::before {content: \"\";position: absolute;border-left: 1px solid gray;box-sizing: border-box;top: 0;bottom: 0;left: 50%;z-index: -1;}#sk-container-id-10 div.sk-parallel-item {display: flex;flex-direction: column;z-index: 1;position: relative;background-color: white;}#sk-container-id-10 div.sk-parallel-item:first-child::after {align-self: flex-end;width: 50%;}#sk-container-id-10 div.sk-parallel-item:last-child::after {align-self: flex-start;width: 50%;}#sk-container-id-10 div.sk-parallel-item:only-child::after {width: 0;}#sk-container-id-10 div.sk-dashed-wrapped {border: 1px dashed gray;margin: 0 0.4em 0.5em 0.4em;box-sizing: border-box;padding-bottom: 0.4em;background-color: white;}#sk-container-id-10 div.sk-label label {font-family: monospace;font-weight: bold;display: inline-block;line-height: 1.2em;}#sk-container-id-10 div.sk-label-container {text-align: center;}#sk-container-id-10 div.sk-container {/* jupyter's `normalize.less` sets `[hidden] { display: none; }` but bootstrap.min.css set `[hidden] { display: none !important; }` so we also need the `!important` here to be able to override the default hidden behavior on the sphinx rendered scikit-learn.org. See: https://github.com/scikit-learn/scikit-learn/issues/21755 */display: inline-block !important;position: relative;}#sk-container-id-10 div.sk-text-repr-fallback {display: none;}</style><div id=\"sk-container-id-10\" class=\"sk-top-container\"><div class=\"sk-text-repr-fallback\"><pre>GaussianProcessRegressor(alpha=array([2.64504373e-01, 1.99699735e-01, 2.83076874e-01, ...,\n",
       "       1.30083721e-01, 2.94237172e-01, 8.28673352e-20]),\n",
       "                         kernel=1**2 * RBF(length_scale=[1, 1]) + WhiteKernel(noise_level=0.0001),\n",
       "                         normalize_y=True)</pre><b>In a Jupyter environment, please rerun this cell to show the HTML representation or trust the notebook. <br />On GitHub, the HTML representation is unable to render, please try loading this page with nbviewer.org.</b></div><div class=\"sk-container\" hidden><div class=\"sk-item\"><div class=\"sk-estimator sk-toggleable\"><input class=\"sk-toggleable__control sk-hidden--visually\" id=\"sk-estimator-id-10\" type=\"checkbox\" checked><label for=\"sk-estimator-id-10\" class=\"sk-toggleable__label sk-toggleable__label-arrow\">GaussianProcessRegressor</label><div class=\"sk-toggleable__content\"><pre>GaussianProcessRegressor(alpha=array([2.64504373e-01, 1.99699735e-01, 2.83076874e-01, ...,\n",
       "       1.30083721e-01, 2.94237172e-01, 8.28673352e-20]),\n",
       "                         kernel=1**2 * RBF(length_scale=[1, 1]) + WhiteKernel(noise_level=0.0001),\n",
       "                         normalize_y=True)</pre></div></div></div></div></div>"
      ],
      "text/plain": [
       "GaussianProcessRegressor(alpha=array([2.64504373e-01, 1.99699735e-01, 2.83076874e-01, ...,\n",
       "       1.30083721e-01, 2.94237172e-01, 8.28673352e-20]),\n",
       "                         kernel=1**2 * RBF(length_scale=[1, 1]) + WhiteKernel(noise_level=0.0001),\n",
       "                         normalize_y=True)"
      ]
     },
     "execution_count": 83,
     "metadata": {},
     "output_type": "execute_result"
    }
   ],
   "source": [
    "\n",
    "\n",
    "kernel = 1.0 * RBF(length_scale=(1e0,1e0), length_scale_bounds=(1e-3, 1e4))\n",
    "kernel += WhiteKernel( noise_level=1e-4, noise_level_bounds=(1e-8, 1e-1))\n",
    "# gpr_prcp = GaussianProcessRegressor(kernel=kernel, alpha=y_var,  n_restarts_optimizer=2)\n",
    "\n",
    "# kernel = 10.0 * RBF(length_scale=(0.75,1.0), length_scale_bounds='fixed')\n",
    "gpr_tmin = GaussianProcessRegressor(kernel=kernel, alpha=y_var, normalize_y=True)\n",
    "\n",
    "gpr_tmin.fit(X2,y)"
   ]
  },
  {
   "cell_type": "code",
   "execution_count": 84,
   "metadata": {},
   "outputs": [
    {
     "name": "stdout",
     "output_type": "stream",
     "text": [
      "fit 1.94**2 * RBF(length_scale=[8.32, 11.4]) + WhiteKernel(noise_level=0.0538)\n"
     ]
    }
   ],
   "source": [
    "print('fit', gpr_tmin.kernel_)"
   ]
  },
  {
   "cell_type": "code",
   "execution_count": 85,
   "metadata": {},
   "outputs": [],
   "source": [
    "X_pred = np.array([x_1d,y_1d]).T\n",
    "y_pred, y_pred_z = gpr_tmin.predict(X_pred, return_std=True)\n",
    "\n",
    "y_pred_mesh = y_pred.reshape(x_mesh.shape).copy()\n",
    "y_pred_mesh[~usa_mask.reshape(x_mesh.shape)]=np.nan"
   ]
  },
  {
   "cell_type": "code",
   "execution_count": 54,
   "metadata": {},
   "outputs": [
    {
     "data": {
      "text/plain": [
       "nan"
      ]
     },
     "execution_count": 54,
     "metadata": {},
     "output_type": "execute_result"
    }
   ],
   "source": []
  },
  {
   "cell_type": "code",
   "execution_count": 86,
   "metadata": {},
   "outputs": [
    {
     "data": {
      "image/png": "[encoded data removed]",
      "text/plain": [
       "<Figure size 640x480 with 2 Axes>"
      ]
     },
     "metadata": {},
     "output_type": "display_data"
    }
   ],
   "source": [
    "plt.contourf(x_mesh,y_mesh,y_pred_mesh,100,cmap='jet')\n",
    "plt.colorbar()\n",
    "plt.title('10y return level - min temperature (C)');"
   ]
  },
  {
   "cell_type": "code",
   "execution_count": null,
   "metadata": {},
   "outputs": [],
   "source": []
  }
 ],
 "metadata": {
  "kernelspec": {
   "display_name": "Python 3",
   "language": "python",
   "name": "python3"
  },
  "language_info": {
   "codemirror_mode": {
    "name": "ipython",
    "version": 3
   },
   "file_extension": ".py",
   "mimetype": "text/x-python",
   "name": "python",
   "nbconvert_exporter": "python",
   "pygments_lexer": "ipython3",
   "version": "3.10.8"
  },
  "orig_nbformat": 4,
  "vscode": {
   "interpreter": {
    "hash": "2d847e021f1b4c926065ca624fa7db1e4fc95549dbb4b1ff85748d1fc237288e"
   }
  }
 },
 "nbformat": 4,
 "nbformat_minor": 2
}
